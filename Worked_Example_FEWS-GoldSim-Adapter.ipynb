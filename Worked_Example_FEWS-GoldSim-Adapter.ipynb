{
 "cells": [
  {
   "cell_type": "markdown",
   "metadata": {
    "slideshow": {
     "slide_type": "slide"
    }
   },
   "source": [
    "# Jupyter Notebook Delft FEWS User Day 2019\n",
    "\n",
    "### by Lindsay Millard, Hydrologist Seqwater\n",
    "\n"
   ]
  },
  {
   "cell_type": "markdown",
   "metadata": {
    "slideshow": {
     "slide_type": "slide"
    }
   },
   "source": [
    "## Overview\n",
    "\n",
    "Jupyter Notebooks are fast way to develop and trial code for Delft FEWS adapters\n",
    "visit: <br>\n",
    "https://github.com/jupyter/jupyter/wiki/A-gallery-of-interesting-Jupyter-Notebooks\n",
    "to learn more about Jupyter Notebooks.\n",
    "<br> I'd like to bring the following example in the gallery to your attention: \n",
    "####  Pandas for Data Analysis \n",
    "Example notebooks - such as Timeseries Analysis"
   ]
  },
  {
   "cell_type": "markdown",
   "metadata": {
    "slideshow": {
     "slide_type": "slide"
    }
   },
   "source": [
    "\n",
    "Let start off by calling the following Python modules to run the code in this example. Most are standard libraries within a Python installation. <br> If your Anaconda Distribution (or vanilla Python) does not have it then you can use either conda or pip to install them.\n",
    "\n",
    "Command Line >>> Pip install 'missing module'\n"
   ]
  },
  {
   "cell_type": "code",
   "execution_count": 5,
   "metadata": {
    "slideshow": {
     "slide_type": "subslide"
    }
   },
   "outputs": [],
   "source": [
    "from xml.etree.ElementTree import *  # Import everything \n",
    "\n",
    "import time\n",
    "from datetime import datetime\n",
    "import csv\n",
    "import os\n",
    "\n",
    "## from xlsxwriter.workbook import Workbook\n",
    "\n",
    "import numpy as np\n",
    "import pandas as pd  ## Abbreviate it using the convention\n",
    "pd.options.display.date_dayfirst=True  # Important to some assumptions below\n",
    "\n",
    "# Check what version of the module you are running, lets check Pandas.\n",
    "pd.__version__\n",
    "\n",
    "%matplotlib inline"
   ]
  },
  {
   "cell_type": "markdown",
   "metadata": {
    "slideshow": {
     "slide_type": "slide"
    }
   },
   "source": [
    "You can set up functions for checking the currency of the file found in the system path.  \n",
    "This needs to be run before the main part of the code"
   ]
  },
  {
   "cell_type": "code",
   "execution_count": 6,
   "metadata": {
    "slideshow": {
     "slide_type": "subslide"
    }
   },
   "outputs": [],
   "source": [
    "## Worker Function for checking currency\n",
    "def newest(path):\n",
    "    files = os.listdir(path)\n",
    "    paths = [os.path.join(path, basename) for basename in files]\n",
    "    return max(paths, key=os.path.getctime)\n",
    "\n",
    "# It is a good idea to put your variables up front\n",
    "fewsNamespace=\"http://www.wldelft.nl/fews/PI\"\n",
    "\n",
    "# The working folder root path can be defined here and then built on later when looking for files or output paths\n",
    "regionHome = r'W:\\500_Reference\\530_Presentations\\04_FEWS User Conference - Australia\\2019\\Python_LinguaFrancaofFEWS\\GoldSim/'\n",
    "\n",
    "regionHome = r'C:\\Users\\Lindsay\\Documents\\GitHub\\DFUDA_2019_Adapter/'"
   ]
  },
  {
   "cell_type": "markdown",
   "metadata": {
    "slideshow": {
     "slide_type": "slide"
    }
   },
   "source": [
    "Using For and If loops are a great way to pull data into the Python interpreter. It is probably a little confusing at first but the commentary along the way should make aspects a little clearer. If it doesn't make sense it can be unwrapped into a simple example. "
   ]
  },
  {
   "cell_type": "markdown",
   "metadata": {
    "slideshow": {
     "slide_type": "slide"
    }
   },
   "source": [
    "# Part 1 _ Pre-Adapter"
   ]
  },
  {
   "cell_type": "code",
   "execution_count": 7,
   "metadata": {
    "slideshow": {
     "slide_type": "subslide"
    }
   },
   "outputs": [
    {
     "name": "stdout",
     "output_type": "stream",
     "text": [
      "importState\n"
     ]
    }
   ],
   "source": [
    "# This is a list of the names of the XML files to go look for. I.e. look in regionHome for import.xml\n",
    "XMLs = ['importState','import']\n",
    "\n",
    "for xml in XMLs:\n",
    "    fin = os.path.join(regionHome,'1_Input',xml+'.xml')    \n",
    "    FEWS_Export = fin   #  regionHome+'1_Input/importState.xml'\n",
    "\n",
    "    parameterNames = ['HNPD_OUT','Reservoir.inflow.forecast', 'Reservoir.outflow.forecast', 'Gate.setting.forecast',]\n",
    "    spreadsheetNames = {'Reservoir.inflow.forecast':'LakeInflows', 'Reservoir.outflow.forecast':'RegulatorFlows', 'Gate.setting.forecast':'Gates', 'HNPD_OUT':'LakeLevels'}\n",
    "\n",
    "XMLs = ['importState']#,'import']\n",
    "## This will only work one by one in a Jupyter Notebook with many cells spilting the loop\n",
    "\n",
    "for xml in XMLs:\n",
    "    print(xml)\n",
    "    fin = os.path.join(regionHome,'1_Input',xml+'.xml')    \n",
    "    FEWS_Export = fin   #  regionHome+'1_Input/importState.xml'\n",
    "\n",
    "    parameterNames = ['HNPD_OUT','Reservoir.inflow.forecast', 'Reservoir.outflow.forecast', 'Gate.setting.forecast',]\n",
    "    spreadsheetNames = {'Reservoir.inflow.forecast':'LakeInflows', 'Reservoir.outflow.forecast':'RegulatorFlows', 'Gate.setting.forecast':'Gates', 'HNPD_OUT':'LakeLevels'}\n",
    "\n",
    "    for parametername in parameterNames:                   \n",
    "        ParList=[]\n",
    "        par =[]\n",
    "        locId=[]\n",
    "        i = 0    \n",
    "        "
   ]
  },
  {
   "cell_type": "markdown",
   "metadata": {
    "slideshow": {
     "slide_type": "slide"
    }
   },
   "source": [
    "Here is reminder of what an XML looks like (using Grid display in XML spy)"
   ]
  },
  {
   "cell_type": "markdown",
   "metadata": {
    "slideshow": {
     "slide_type": "subslide"
    }
   },
   "source": [
    "<img src=\"assets/XML_timeseries.png\">"
   ]
  },
  {
   "cell_type": "markdown",
   "metadata": {
    "slideshow": {
     "slide_type": "slide"
    }
   },
   "source": [
    "Here is some code the will scrape timeseries data out of an XML file exported from FEWS.  \n",
    "The header information can be dealt with first. You can retrieve the number of Series (7), ParameterId (Reservoir.inflow.forecast) and MissingValue (-999.0)"
   ]
  },
  {
   "cell_type": "code",
   "execution_count": 8,
   "metadata": {
    "slideshow": {
     "slide_type": "subslide"
    }
   },
   "outputs": [
    {
     "name": "stdout",
     "output_type": "stream",
     "text": [
      "We have opended the following file:\n",
      "C:\\Users\\Lindsay\\Documents\\GitHub\\DFUDA_2019_Adapter/1_Input\\importState.xml\n"
     ]
    }
   ],
   "source": [
    "        with open(FEWS_Export, \"r\") as file:\n",
    "            print('We have opended the following file:\\n'+FEWS_Export)\n",
    "            \n",
    "            tree = parse(file)\n",
    "            PItimeSeries = tree.getroot()\n",
    "            \n",
    "            series = PItimeSeries.findall('.//{' + fewsNamespace + '}series')\n",
    "            ## Search for all the Parameters defined in the XML\n",
    "            Parameters=PItimeSeries.findall('.//{' + fewsNamespace + '}parameterId')\n",
    "            for param in Parameters:\n",
    "                ParList.append(param.text)\n",
    "            \n",
    "            parCount=0  # Initialise a counter of parameters found                \n",
    "            \n",
    "            missingvalue = PItimeSeries.findall('.//{' + fewsNamespace + '}missVal')\n",
    "            "
   ]
  },
  {
   "cell_type": "markdown",
   "metadata": {
    "slideshow": {
     "slide_type": "slide"
    }
   },
   "source": [
    "The code does not know how many timeseries are in the XML. The following code will loop through all of the parameters of interest and then count the length.  "
   ]
  },
  {
   "cell_type": "code",
   "execution_count": 9,
   "metadata": {
    "slideshow": {
     "slide_type": "subslide"
    }
   },
   "outputs": [
    {
     "name": "stdout",
     "output_type": "stream",
     "text": [
      "Number of Timestep rows:     481\n",
      "Number of Parameter columns: 0\n"
     ]
    }
   ],
   "source": [
    "            for S in series:\n",
    "                events = S.findall('.//{' + fewsNamespace + '}event')\n",
    "                \n",
    "                # When working with Date Time we will need to define it is a DateTime not a string or float\n",
    "                ArrayDates = np.zeros((len(events)),dtype='datetime64[ns]')\n",
    "                \n",
    "                par = S.find('.//{' + fewsNamespace + '}parameterId').text\n",
    "                if par==parametername:\n",
    "                    parCount = parCount + 1\n",
    "            \n",
    "            ## Once you loop through the file you are able to set up empty array of appropriate size            \n",
    "            ArrayValues = np.zeros((len(events), parCount))\n",
    "            print('Number of Timestep rows:     '+ str(ArrayValues.shape[0]))\n",
    "            print('Number of Parameter columns: '+ str(ArrayValues.shape[1]))\n",
    "            "
   ]
  },
  {
   "cell_type": "code",
   "execution_count": 10,
   "metadata": {
    "slideshow": {
     "slide_type": "subslide"
    }
   },
   "outputs": [
    {
     "name": "stdout",
     "output_type": "stream",
     "text": [
      "0 0\n"
     ]
    }
   ],
   "source": [
    "            j = 0\n",
    "\n",
    "            DateList = []\n",
    "            for S in series:\n",
    "                par = S.find('.//{' + fewsNamespace + '}parameterId').text\n",
    "                \n",
    "                if par!=parametername:\n",
    "                    pass\n",
    "                \n",
    "                else:            \n",
    "                    events = S.findall('.//{' + fewsNamespace + '}event')\n",
    "                    locs = S.findall('.//{' + fewsNamespace + '}locationId')\n",
    "                    \n",
    "                    i=0\n",
    "                    for l in locs:\n",
    "                        locId.append(l.text)        \n",
    "                \n",
    "                    for ev in events:\n",
    "                        if ev.attrib['value'] == S.find('.//{' + fewsNamespace + '}missVal').text:\n",
    "                            ArrayValues[i,j] = float(0)\n",
    "                        else:\n",
    "                            ArrayValues[i,j] = float(ev.attrib['value'])\n",
    "                        \n",
    "                        strucTime_Tuple = datetime.strptime(ev.attrib['date'] + \" \" + ev.attrib['time'],\"%Y-%m-%d %H:%M:%S\")\n",
    "                        ArrayDates[i] = strucTime_Tuple\n",
    "\n",
    "                        i += 1\n",
    "                    j += 1\n",
    "            row = i\n",
    "            col = j\n",
    "            print(row,col)\n",
    "\n",
    "            DFd = pd.DataFrame(ArrayDates) \n",
    "            # Rename the columns\n",
    "            DFd.columns = ['DateTime']\n",
    "            \n",
    "            DFv = pd.DataFrame(ArrayValues) \n",
    "            # Rename the columns\n",
    "            DFv.columns = locId\n",
    "            \n",
    "            # Concatenate both columns together, do this column-wise (axis=1)\n",
    "            DF = pd.concat([DFd,DFv],axis=1)"
   ]
  },
  {
   "cell_type": "code",
   "execution_count": 16,
   "metadata": {
    "slideshow": {
     "slide_type": "subslide"
    }
   },
   "outputs": [
    {
     "name": "stdout",
     "output_type": "stream",
     "text": [
      "Gate.setting.forecast\n",
      "Gate.setting.forecast\n"
     ]
    },
    {
     "data": {
      "text/html": [
       "<div>\n",
       "<style scoped>\n",
       "    .dataframe tbody tr th:only-of-type {\n",
       "        vertical-align: middle;\n",
       "    }\n",
       "\n",
       "    .dataframe tbody tr th {\n",
       "        vertical-align: top;\n",
       "    }\n",
       "\n",
       "    .dataframe thead th {\n",
       "        text-align: right;\n",
       "    }\n",
       "</style>\n",
       "<table border=\"1\" class=\"dataframe\">\n",
       "  <thead>\n",
       "    <tr style=\"text-align: right;\">\n",
       "      <th></th>\n",
       "      <th>Outflow_m3/s</th>\n",
       "      <th>North_m</th>\n",
       "    </tr>\n",
       "    <tr>\n",
       "      <th>DateTime</th>\n",
       "      <th></th>\n",
       "      <th></th>\n",
       "    </tr>\n",
       "  </thead>\n",
       "  <tbody>\n",
       "    <tr>\n",
       "      <th>2011-01-08 23:00:00</th>\n",
       "      <td>30.0</td>\n",
       "      <td>38.60000</td>\n",
       "    </tr>\n",
       "    <tr>\n",
       "      <th>2011-01-08 23:30:00</th>\n",
       "      <td>30.0</td>\n",
       "      <td>38.59776</td>\n",
       "    </tr>\n",
       "    <tr>\n",
       "      <th>2011-01-09 00:00:00</th>\n",
       "      <td>30.0</td>\n",
       "      <td>38.59553</td>\n",
       "    </tr>\n",
       "    <tr>\n",
       "      <th>2011-01-09 00:30:00</th>\n",
       "      <td>30.0</td>\n",
       "      <td>38.59335</td>\n",
       "    </tr>\n",
       "    <tr>\n",
       "      <th>2011-01-09 01:00:00</th>\n",
       "      <td>30.0</td>\n",
       "      <td>38.59138</td>\n",
       "    </tr>\n",
       "  </tbody>\n",
       "</table>\n",
       "</div>"
      ],
      "text/plain": [
       "                     Outflow_m3/s   North_m\n",
       "DateTime                                   \n",
       "2011-01-08 23:00:00          30.0  38.60000\n",
       "2011-01-08 23:30:00          30.0  38.59776\n",
       "2011-01-09 00:00:00          30.0  38.59553\n",
       "2011-01-09 00:30:00          30.0  38.59335\n",
       "2011-01-09 01:00:00          30.0  38.59138"
      ]
     },
     "execution_count": 16,
     "metadata": {},
     "output_type": "execute_result"
    }
   ],
   "source": [
    "        ## Because the list of files and parameters contradict, we need to stop it overwriting the previous loop\n",
    "        if xml == 'importState' and parametername == 'HNPD_OUT':\n",
    "            GoldSIMSpreadSheet = regionHome+'2_Model/'+spreadsheetNames[parametername]+'.xlsx'\n",
    "\n",
    "            #Let us use Pandas to write the file to a spreadsheet, this can be done in one line\n",
    "            DF.to_excel(GoldSIMSpreadSheet,sheet_name='FEWS_Export')\n",
    "            print(parametername)\n",
    "\n",
    "        elif parametername != 'HNPD_OUT':\n",
    "            GoldSIMSpreadSheet = regionHome+'2_Model/'+spreadsheetNames[parametername]+'.xlsx'\n",
    "            DF.to_excel(GoldSIMSpreadSheet,sheet_name='FEWS_Export')\n",
    "            print(parametername)\n",
    "\n",
    "print(parametername)\n",
    "DF.head()           "
   ]
  },
  {
   "cell_type": "markdown",
   "metadata": {
    "slideshow": {
     "slide_type": "slide"
    }
   },
   "source": [
    "# Part 1 - Run the Pre- Adapter\n",
    "\n",
    "## Run the Master For loop from the top\n",
    "\n",
    "This will allow the file to iterate over all of the parameters and files of interest.  \n",
    "This will produce the XLSX files that GoldSim requires to run\n"
   ]
  },
  {
   "cell_type": "code",
   "execution_count": 12,
   "metadata": {
    "slideshow": {
     "slide_type": "subslide"
    }
   },
   "outputs": [],
   "source": [
    "XMLs = ['importState','import']\n",
    "\n",
    "for xml in XMLs:\n",
    "    fin = os.path.join(regionHome,'1_Input',xml+'.xml')    \n",
    "    FEWS_Export = fin   #  regionHome+'1_Input/importState.xml'\n",
    "\n",
    "    parameterNames = ['HNPD_OUT','Reservoir.inflow.forecast', 'Reservoir.outflow.forecast', 'Gate.setting.forecast',]\n",
    "    spreadsheetNames = {'Reservoir.inflow.forecast':'LakeInflows', 'Reservoir.outflow.forecast':'RegulatorFlows', 'Gate.setting.forecast':'Gates', 'HNPD_OUT':'LakeLevels'}\n",
    "\n",
    "    for parametername in parameterNames:                   \n",
    "        ParList=[]\n",
    "        par =[]\n",
    "        locId=[]\n",
    "        i = 0    \n",
    "        \n",
    "        with open(FEWS_Export, \"r\") as file:\n",
    "            tree = parse(file)\n",
    "            PItimeSeries = tree.getroot()\n",
    "            Parameters=PItimeSeries.findall('.//{' + fewsNamespace + '}parameterId')\n",
    "            for param in Parameters:\n",
    "                ParList.append(param.text)\n",
    "                \n",
    "            missingvalue = PItimeSeries.findall('.//{' + fewsNamespace + '}missVal')\n",
    "            series = PItimeSeries.findall('.//{' + fewsNamespace + '}series')\n",
    "\n",
    "            # determine size of aray needed. all series MUST be the same length\n",
    "            parCount=0\n",
    "            for S in series:\n",
    "                events = S.findall('.//{' + fewsNamespace + '}event')\n",
    "                ArrayDates = np.zeros((len(events)),dtype='datetime64[ns]')\n",
    "                \n",
    "                par = S.find('.//{' + fewsNamespace + '}parameterId').text\n",
    "                if par==parametername:\n",
    "                    parCount = parCount + 1\n",
    "            \n",
    "            ArrayValues = np.zeros((len(events), parCount))\n",
    "            j = 0\n",
    "\n",
    "            DateList = []\n",
    "            for S in series:\n",
    "                par = S.find('.//{' + fewsNamespace + '}parameterId').text\n",
    "                \n",
    "                if par!=parametername:\n",
    "                    pass\n",
    "                \n",
    "                else:            \n",
    "                    events = S.findall('.//{' + fewsNamespace + '}event')\n",
    "                    locs = S.findall('.//{' + fewsNamespace + '}locationId')\n",
    "                    i=0\n",
    "                    for l in locs:\n",
    "                        locId.append(l.text)        \n",
    "                \n",
    "                    for ev in events:\n",
    "                        if ev.attrib['value'] == S.find('.//{' + fewsNamespace + '}missVal').text:\n",
    "                            ArrayValues[i,j] = float(0)\n",
    "                        else:\n",
    "                            ArrayValues[i,j] = float(ev.attrib['value'])\n",
    "                        \n",
    "                        strucTime_Tuple = datetime.strptime(ev.attrib['date'] + \" \" + ev.attrib['time'],\"%Y-%m-%d %H:%M:%S\")\n",
    "                        ArrayDates[i] = strucTime_Tuple\n",
    "\n",
    "                        i += 1\n",
    "                    j +=  1\n",
    "            row = i\n",
    "            col = j\n",
    "\n",
    "            DFd = pd.DataFrame(ArrayDates) \n",
    "            DFd.columns = ['DateTime']\n",
    "            DFv = pd.DataFrame(ArrayValues) \n",
    "            DFv.columns = locId\n",
    "\n",
    "            DF = pd.concat([DFd,DFv],axis=1)\n",
    "                \n",
    "            \n",
    "        if xml == 'importState' and parametername == 'HNPD_OUT':\n",
    "            GoldSIMSpreadSheet = regionHome+'2_Model/'+spreadsheetNames[parametername]+'.xlsx'\n",
    "            DF.to_excel(GoldSIMSpreadSheet,sheet_name='FEWS_Export')\n",
    "        \n",
    "        elif parametername != 'HNPD_OUT':\n",
    "            GoldSIMSpreadSheet = regionHome+'2_Model/'+spreadsheetNames[parametername]+'.xlsx'\n",
    "            DF.to_excel(GoldSIMSpreadSheet,sheet_name='FEWS_Export')\n",
    "\n",
    "\n"
   ]
  },
  {
   "cell_type": "markdown",
   "metadata": {
    "slideshow": {
     "slide_type": "slide"
    }
   },
   "source": [
    "# Part 2 - Run GoldSim"
   ]
  },
  {
   "cell_type": "markdown",
   "metadata": {
    "slideshow": {
     "slide_type": "subslide"
    }
   },
   "source": [
    "The Excel spreadsheet files for the:\n",
    "    Gates, LakeInflows, LakeLevels and RegulatorFlows have all been produced by Part 1.\n",
    "    \n",
    "Running the GoldSim Player file produces RoutedFlows.txt and RoutedLevels.txt"
   ]
  },
  {
   "cell_type": "markdown",
   "metadata": {
    "slideshow": {
     "slide_type": "subslide"
    }
   },
   "source": [
    "<img src=\"assets/GoldSim_RunTheTimeseries.png\">"
   ]
  },
  {
   "cell_type": "markdown",
   "metadata": {
    "slideshow": {
     "slide_type": "slide"
    }
   },
   "source": [
    "# Part 3 - Run the Post-Adapter\n",
    "\n",
    "Using the RoutedFlows.txt and RoutedLevel.txt we can now turn them back into XML timeseries for FEWS to read"
   ]
  },
  {
   "cell_type": "code",
   "execution_count": 13,
   "metadata": {
    "slideshow": {
     "slide_type": "subslide"
    }
   },
   "outputs": [],
   "source": [
    "# populate the xml file\n",
    "def xml(parameter, location, eventValues, dT64, unit):\n",
    "    #sd = str(dateTime[0])\n",
    "    sd = dateTime[0].strftime(\"%Y-%m-%d\")\n",
    "    st = dateTime[0].strftime(\"%H:%M:%S\")\n",
    "    ed = dateTime[-1].strftime(\"%Y-%m-%d\")\n",
    "    et = dateTime[-1].strftime(\"%H:%M:%S\")\n",
    "    DTtimeStep = dateTime[1]-dateTime[0]\n",
    "    timeStep = int(DTtimeStep.total_seconds())\n",
    "    \n",
    "    # write XML output timeseries\n",
    "    with open(regionHome+ExportXML,'a') as xf:    # 'a+b'\n",
    "        \n",
    "        ## Write Header for each Series \n",
    "        \n",
    "        xf.write('    <series>\\n')\n",
    "        xf.write('        <header>\\n')\n",
    "        xf.write('            <type>instantaneous</type>\\n')        \n",
    "        \n",
    "        loc_text = str('            <locationId>%s</locationId>\\n') % (location)\n",
    "        xf.write(loc_text)        \n",
    "        \n",
    "        par_text = str('            <parameterId>%s</parameterId>\\n') % (parameter)\n",
    "        xf.write(par_text)\n",
    "        \n",
    "        timestep_text = str('            <timeStep unit=\"second\" multiplier=\"%s\"/>\\n') %(timeStep)\n",
    "        xf.write(timestep_text)   \n",
    "        \n",
    "        sd_text = str('            <startDate date=\"%s\" time=\"%s\"/>\\n') % (sd, st)\n",
    "        xf.write(sd_text)\n",
    "        \n",
    "        ed_text = str('            <endDate date=\"%s\" time=\"%s\"/>\\n') % (ed, et)\n",
    "        xf.write(ed_text)\n",
    "        \n",
    "        xf.write('            <missVal>-999.0</missVal>\\n')\n",
    "        xf.write('            <stationName>Hydro Gauge 1</stationName>\\n')        \n",
    "        \n",
    "        unit_text = str('            <units>%s</units>\\n') %(unit)\n",
    "        xf.write(unit_text) \n",
    "        \n",
    "        xf.write('        </header>\\n')\n",
    "        \n",
    "        \n",
    "        ## Write all the event values for each  timestamp in the series\n",
    "        for i in range(len(eventValues)):\n",
    "            event_date = str('        <event date=\"%s\"') % (dateTime[i].strftime(\"%Y-%m-%d\"))\n",
    "            event_time = str(' time=\"%s\"') % (dateTime[i].strftime(\"%H:%M:%S\"))\n",
    "            event_value = str(' value=\"%s\"') % eventValues[i][0].round(2)\n",
    "            event_flag = str(' flag=\"0\"/>\\n')\n",
    "            \n",
    "            event = str(event_date+event_time+event_value+event_flag)\n",
    "            xf.write(event)\n",
    "            \n",
    "        xf.write('    </series>\\n')\n",
    "        \n",
    "    \n",
    "    "
   ]
  },
  {
   "cell_type": "markdown",
   "metadata": {
    "slideshow": {
     "slide_type": "slide"
    }
   },
   "source": [
    "## 03 _ Main Post-Adapter code\n",
    "\n",
    "Go get the GoldSim model results and then translate the output files\n",
    "\n"
   ]
  },
  {
   "cell_type": "code",
   "execution_count": 15,
   "metadata": {
    "slideshow": {
     "slide_type": "subslide"
    }
   },
   "outputs": [],
   "source": [
    "regionHome = r'C:\\Users\\Lindsay\\Documents\\GitHub\\DFUDA_2019_Adapter/'\n",
    "\n",
    "ExportXML = '3_Output/Export_fromGoldSim.xml'\n",
    "GoldSimOutputs = ['RoutedFlows.txt','RoutedLevels.txt']\n",
    "\n",
    "DF = pd.DataFrame()\n",
    "\n",
    "# write XML output header, once\n",
    "with open(ExportXML,'w') as xf:\n",
    "    xf.write('<?xml version=\"1.0\" encoding=\"UTF-8\"?>\\n')\n",
    "    xf.write('<TimeSeries xmlns=\"http://www.wldelft.nl/fews/PI\" xmlns:xsi=\"http://www.w3.org/2001/XMLSchema-instance\" xsi:schemaLocation=\"http://www.wldelft.nl/fews/PI http://fews.wldelft.nl/schemas/version1.0/pi-schemas/pi_timeseries.xsd\" version=\"1.2\">\\n')\n",
    "    xf.write('    <timeZone>10.0</timeZone>\\n')\n",
    "\n",
    "for GS in GoldSimOutputs:\n",
    "    fin = os.path.join(regionHome,'2_Model',GS)\n",
    "\n",
    "    with open(fin,'r') as f:\n",
    "        lines = f.readlines()\n",
    "        parameter = lines[11].split()[1]\n",
    "        unit = lines[12].split()[1]\n",
    "\n",
    "    df = pd.read_table(fin,skiprows=14,header=None,names=['DateTime',parameter+'_'+unit,'Blank'],index_col=0,\n",
    "                       parse_dates=True,dayfirst=True)\n",
    "\n",
    "    df = df.drop(['Blank'],axis=1)   \n",
    "    DF = pd.concat([DF,df],axis=1)\n",
    "    \n",
    "    locn = 'NPD'\n",
    "    dateTime = df.index.to_pydatetime()\n",
    "    xml(parameter,locn,df.values,dateTime,unit)\n",
    "\n",
    "with open(ExportXML,'a') as xf:\n",
    "    xf.write('</TimeSeries>\\n') \n"
   ]
  },
  {
   "cell_type": "markdown",
   "metadata": {
    "slideshow": {
     "slide_type": "slide"
    }
   },
   "source": [
    "## Have a quick plot of the results"
   ]
  },
  {
   "cell_type": "code",
   "execution_count": 17,
   "metadata": {
    "slideshow": {
     "slide_type": "subslide"
    }
   },
   "outputs": [
    {
     "data": {
      "image/png": "[encoded data removed]",
      "text/plain": [
       "<Figure size 432x288 with 2 Axes>"
      ]
     },
     "metadata": {
      "needs_background": "light"
     },
     "output_type": "display_data"
    }
   ],
   "source": [
    "ax=DF.iloc[:,0].plot(legend=True)\n",
    "DF.iloc[:,1].plot(secondary_y=True,\n",
    "                  ax=ax,legend=True)\n",
    "ax.set_ylabel(DF.columns[0])\n",
    "ax.set_xlim('09-01-2011','13-01-2011')\n",
    "ax.grid(which='both')"
   ]
  }
 ],
 "metadata": {
  "celltoolbar": "Slideshow",
  "kernelspec": {
   "display_name": "Python 3",
   "language": "python",
   "name": "python3"
  },
  "language_info": {
   "codemirror_mode": {
    "name": "ipython",
    "version": 3
   },
   "file_extension": ".py",
   "mimetype": "text/x-python",
   "name": "python",
   "nbconvert_exporter": "python",
   "pygments_lexer": "ipython3",
   "version": "3.6.5"
  }
 },
 "nbformat": 4,
 "nbformat_minor": 2
}
