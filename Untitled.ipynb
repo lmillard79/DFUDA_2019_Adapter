{
 "cells": [
  {
   "cell_type": "code",
   "execution_count": 22,
   "metadata": {},
   "outputs": [],
   "source": [
    "import datetime as dt\n",
    "import getopt, sys, os\n",
    "from xml.etree.ElementTree import *\n",
    "from datetime import *\n",
    "from time import mktime\n",
    "import time as TIME\n",
    "import csv\n",
    "import pandas as pd\n",
    "import numpy as np\n",
    "\n",
    "%matplotlib inline"
   ]
  },
  {
   "cell_type": "code",
   "execution_count": 157,
   "metadata": {},
   "outputs": [],
   "source": [
    "# populate the xml file\n",
    "def xml(parameter, location, eventValues, dT64, unit):\n",
    "    #sd = str(dateTime[0])\n",
    "    sd = dateTime[0].strftime(\"%Y-%m-%d\")\n",
    "    st = dateTime[0].strftime(\"%H:%M:%S\")\n",
    "    ed = dateTime[-1].strftime(\"%Y-%m-%d\")\n",
    "    et = dateTime[-1].strftime(\"%H:%M:%S\")\n",
    "    DTtimeStep = dateTime[1]-dateTime[0]\n",
    "    timeStep = int(DTtimeStep.total_seconds())\n",
    "    \n",
    "    # write XML output timeseries\n",
    "    with open(regionHome+ExportXML,'a') as xf:    # 'a+b'\n",
    "        \n",
    "        ## Write Header for each Series \n",
    "        \n",
    "        xf.write('    <series>\\n')\n",
    "        xf.write('        <header>\\n')\n",
    "        xf.write('            <type>instantaneous</type>\\n')        \n",
    "        \n",
    "        loc_text = str('            <locationId>%s</locationId>\\n') % (location)\n",
    "        xf.write(loc_text)        \n",
    "        \n",
    "        par_text = str('            <parameterId>%s</parameterId>\\n') % (parameter)\n",
    "        xf.write(par_text)\n",
    "        \n",
    "        timestep_text = str('            <timeStep unit=\"second\" multiplier=\"%s\"/>\\n') %(timeStep)\n",
    "        xf.write(timestep_text)   \n",
    "        \n",
    "        sd_text = str('            <startDate date=\"%s\" time=\"%s\"/>\\n') % (sd, st)\n",
    "        xf.write(sd_text)\n",
    "        \n",
    "        ed_text = str('            <endDate date=\"%s\" time=\"%s\"/>\\n') % (ed, et)\n",
    "        xf.write(ed_text)\n",
    "        \n",
    "        xf.write('            <missVal>-999.0</missVal>\\n')\n",
    "        xf.write('            <stationName>Hydro Gauge 1</stationName>\\n')        \n",
    "        \n",
    "        unit_text = str('            <units>%s</units>\\n') %(unit)\n",
    "        xf.write(unit_text) \n",
    "        \n",
    "        xf.write('        </header>\\n')\n",
    "        \n",
    "        \n",
    "        ## Write all the event values for each  timestamp in the series\n",
    "        for i in range(len(eventValues)):\n",
    "            event_date = str('        <event date=\"%s\"') % (dateTime[i].strftime(\"%Y-%m-%d\"))\n",
    "            event_time = str(' time=\"%s\"') % (dateTime[i].strftime(\"%H:%M:%S\"))\n",
    "            event_value = str(' value=\"%s\"') % eventValues[i][0].round(2)\n",
    "            event_flag = str(' flag=\"0\"/>\\n')\n",
    "            \n",
    "            event = str(event_date+event_time+event_value+event_flag)\n",
    "            xf.write(event)\n",
    "            \n",
    "        xf.write('    </series>\\n')\n",
    "        xf.write('</TimeSeries>') \n",
    "    \n",
    "    "
   ]
  },
  {
   "cell_type": "markdown",
   "metadata": {},
   "source": [
    "# Main Post Adapter code"
   ]
  },
  {
   "cell_type": "code",
   "execution_count": 159,
   "metadata": {},
   "outputs": [
    {
     "data": {
      "image/png": "[encoded data removed]",
      "text/plain": [
       "<Figure size 432x288 with 1 Axes>"
      ]
     },
     "metadata": {},
     "output_type": "display_data"
    }
   ],
   "source": [
    "regionHome = r'C:\\Users\\lmillard\\GitRepos\\DFUDA_2019_Adapter/'\n",
    "\n",
    "ExportXML = 'Export_fromGoldSim.xml'\n",
    "GoldSimOutputs = ['RoutedFlows.txt','RoutedLevels.txt']\n",
    "\n",
    "    \n",
    "# write XML output header, once\n",
    "with open(ExportXML,'w') as xf:\n",
    "    xf.write('<?xml version=\"1.0\" encoding=\"UTF-8\"?>\\n')\n",
    "    xf.write('<TimeSeries xmlns=\"http://www.wldelft.nl/fews/PI\" xmlns:xsi=\"http://www.w3.org/2001/XMLSchema-instance\" xsi:schemaLocation=\"http://www.wldelft.nl/fews/PI http://fews.wldelft.nl/schemas/version1.0/pi-schemas/pi_timeseries.xsd\" version=\"1.2\">\\n')\n",
    "    xf.write('    <timeZone>10.0</timeZone>\\n')\n",
    "    \n",
    "GS = GoldSimOutputs[0]\n",
    "fin = os.path.join(regionHome,'2_Model',GS)\n",
    "\n",
    "with open(fin,'rb') as f:\n",
    "    lines = f.readlines()\n",
    "    parameter = lines[11].split()[1]\n",
    "    unit = lines[12].split()[1]\n",
    "        \n",
    "df = pd.read_table(fin,skiprows=14,header=None,names=['DateTime','GS_Export','Blank'],index_col=0,\n",
    "                   parse_dates=True,dayfirst=True)\n",
    "        \n",
    "df = df.drop(['Blank'],axis=1)\n",
    "df.plot()\n",
    "\n",
    "locn = 'NPD'\n",
    "dateTime = df.index.to_pydatetime()\n",
    "xml(parameter,locn,df.values,dateTime,unit)\n",
    "\n",
    "  "
   ]
  }
 ],
 "metadata": {
  "kernelspec": {
   "display_name": "Python 3",
   "language": "python",
   "name": "python3"
  },
  "language_info": {
   "codemirror_mode": {
    "name": "ipython",
    "version": 3
   },
   "file_extension": ".py",
   "mimetype": "text/x-python",
   "name": "python",
   "nbconvert_exporter": "python",
   "pygments_lexer": "ipython3",
   "version": "3.6.5"
  }
 },
 "nbformat": 4,
 "nbformat_minor": 2
}
